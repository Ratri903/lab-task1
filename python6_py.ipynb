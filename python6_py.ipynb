{
  "nbformat": 4,
  "nbformat_minor": 0,
  "metadata": {
    "colab": {
      "provenance": [],
      "authorship_tag": "ABX9TyNK/JV3X2f0fSEFNrhK5Deh",
      "include_colab_link": true
    },
    "kernelspec": {
      "name": "python3",
      "display_name": "Python 3"
    },
    "language_info": {
      "name": "python"
    }
  },
  "cells": [
    {
      "cell_type": "markdown",
      "metadata": {
        "id": "view-in-github",
        "colab_type": "text"
      },
      "source": [
        "<a href=\"https://colab.research.google.com/github/Ratri903/lab-task1/blob/main/python6_py.ipynb\" target=\"_parent\"><img src=\"https://colab.research.google.com/assets/colab-badge.svg\" alt=\"Open In Colab\"/></a>"
      ]
    },
    {
      "cell_type": "code",
      "execution_count": null,
      "metadata": {
        "id": "tvdNDb-Q4SXT"
      },
      "outputs": [],
      "source": [
        "def shortest_word(sentence):\n",
        "    words = sentence.split()\n",
        "    return min(words, key=len) if words else None\n",
        "\n",
        "sentence = \"Python is fun and powerful\"\n",
        "result = shortest_word(sentence)\n",
        "print(f\"The shortest word is: '{result}'\") if result else print(\"Empty sentence!\")\n"
      ]
    }
  ]
}