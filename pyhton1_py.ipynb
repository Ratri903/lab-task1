{
  "nbformat": 4,
  "nbformat_minor": 0,
  "metadata": {
    "colab": {
      "provenance": [],
      "authorship_tag": "ABX9TyNppjzI4c3/n9gFb+jQLZvw",
      "include_colab_link": true
    },
    "kernelspec": {
      "name": "python3",
      "display_name": "Python 3"
    },
    "language_info": {
      "name": "python"
    }
  },
  "cells": [
    {
      "cell_type": "markdown",
      "metadata": {
        "id": "view-in-github",
        "colab_type": "text"
      },
      "source": [
        "<a href=\"https://colab.research.google.com/github/Ratri903/lab-task1/blob/main/pyhton1_py.ipynb\" target=\"_parent\"><img src=\"https://colab.research.google.com/assets/colab-badge.svg\" alt=\"Open In Colab\"/></a>"
      ]
    },
    {
      "cell_type": "code",
      "execution_count": 1,
      "metadata": {
        "colab": {
          "base_uri": "https://localhost:8080/"
        },
        "id": "PJF5gzFDwJeJ",
        "outputId": "fdfd6e0b-7b39-474f-a052-b7e5bdf8c466"
      },
      "outputs": [
        {
          "output_type": "stream",
          "name": "stdout",
          "text": [
            "Math Score Report\n",
            "Student: Alice | Age: 19\n",
            "Math Score = 92 Science Score = 88 Total = 180\n",
            "Average Score: 90.00\n"
          ]
        }
      ],
      "source": [
        "print(\"Math Score Report\")\n",
        "\n",
        "student_name = \"Alice\"\n",
        "student_age = 19\n",
        "print(\"Student:\", student_name, \"| Age:\", student_age)\n",
        "\n",
        "math_score = 92\n",
        "science_score = 88\n",
        "total_score = math_score + science_score\n",
        "print(\"Math Score =\", math_score, \"Science Score =\", science_score, \"Total =\", total_score)\n",
        "\n",
        "\n",
        "average_score = total_score / 2\n",
        "print(\"Average Score: {:.2f}\".format(average_score))\n"
      ]
    }
  ]
}