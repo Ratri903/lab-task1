{
  "nbformat": 4,
  "nbformat_minor": 0,
  "metadata": {
    "colab": {
      "provenance": [],
      "authorship_tag": "ABX9TyNpntosJljfeWj98Bqex63A",
      "include_colab_link": true
    },
    "kernelspec": {
      "name": "python3",
      "display_name": "Python 3"
    },
    "language_info": {
      "name": "python"
    }
  },
  "cells": [
    {
      "cell_type": "markdown",
      "metadata": {
        "id": "view-in-github",
        "colab_type": "text"
      },
      "source": [
        "<a href=\"https://colab.research.google.com/github/Ratri903/lab-task1/blob/main/python5_py.ipynb\" target=\"_parent\"><img src=\"https://colab.research.google.com/assets/colab-badge.svg\" alt=\"Open In Colab\"/></a>"
      ]
    },
    {
      "cell_type": "code",
      "execution_count": null,
      "metadata": {
        "id": "HEH-ACxl34Nf"
      },
      "outputs": [],
      "source": [
        "student_grades = {\"Alice\": \"A\", \"Bob\": \"B\"}\n",
        "print(len(student_grades))\n",
        "\n",
        "fruits = {\"apple\": 2, \"banana\": 5, \"orange\": 3}\n",
        "print(len(fruits))\n",
        "\n",
        "empty_dict = {}\n",
        "print(len(empty_dict))\n"
      ]
    }
  ]
}