{
  "nbformat": 4,
  "nbformat_minor": 0,
  "metadata": {
    "colab": {
      "provenance": [],
      "authorship_tag": "ABX9TyOIgMgeAUqNtu2CQ79JEKcf",
      "include_colab_link": true
    },
    "kernelspec": {
      "name": "python3",
      "display_name": "Python 3"
    },
    "language_info": {
      "name": "python"
    }
  },
  "cells": [
    {
      "cell_type": "markdown",
      "metadata": {
        "id": "view-in-github",
        "colab_type": "text"
      },
      "source": [
        "<a href=\"https://colab.research.google.com/github/Ratri903/lab-task1/blob/main/python9_py.ipynb\" target=\"_parent\"><img src=\"https://colab.research.google.com/assets/colab-badge.svg\" alt=\"Open In Colab\"/></a>"
      ]
    },
    {
      "cell_type": "code",
      "execution_count": null,
      "metadata": {
        "id": "x7n4YbAh5H4M"
      },
      "outputs": [],
      "source": [
        "odd_numbers = {1, 3, 5, 7, 9}\n",
        "print('Set:', odd_numbers)\n",
        "\n",
        "# Find the number of elements\n",
        "print('Total Elements:', len(odd_numbers))\n"
      ]
    }
  ]
}