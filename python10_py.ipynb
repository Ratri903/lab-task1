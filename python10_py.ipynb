{
  "nbformat": 4,
  "nbformat_minor": 0,
  "metadata": {
    "colab": {
      "provenance": [],
      "authorship_tag": "ABX9TyP6eDEZ+yZpg/FCpfnMjz0B",
      "include_colab_link": true
    },
    "kernelspec": {
      "name": "python3",
      "display_name": "Python 3"
    },
    "language_info": {
      "name": "python"
    }
  },
  "cells": [
    {
      "cell_type": "markdown",
      "metadata": {
        "id": "view-in-github",
        "colab_type": "text"
      },
      "source": [
        "<a href=\"https://colab.research.google.com/github/Ratri903/lab-task1/blob/main/python10_py.ipynb\" target=\"_parent\"><img src=\"https://colab.research.google.com/assets/colab-badge.svg\" alt=\"Open In Colab\"/></a>"
      ]
    },
    {
      "cell_type": "code",
      "execution_count": null,
      "metadata": {
        "id": "jrEHcezh5Vxc"
      },
      "outputs": [],
      "source": [
        "class Student:\n",
        "    studentCount = 0\n",
        "\n",
        "    def __init__(self, name, grade):\n",
        "        self.__name = name\n",
        "        self.__grade = grade\n",
        "        Student.studentCount += 1\n",
        "        print(f\"Student Name: {self.__name}, Grade: {self.__grade}\")\n",
        "        print(f\"Total Students: {Student.studentCount}\")\n",
        "\n",
        "s1 = Student(\"Alice\", \"A\")\n",
        "print()\n",
        "s2 = Student(\"Bob\", \"B\")\n"
      ]
    }
  ]
}