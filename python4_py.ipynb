{
  "nbformat": 4,
  "nbformat_minor": 0,
  "metadata": {
    "colab": {
      "provenance": [],
      "authorship_tag": "ABX9TyNITDkGLc0lkKimHfHjHpVM",
      "include_colab_link": true
    },
    "kernelspec": {
      "name": "python3",
      "display_name": "Python 3"
    },
    "language_info": {
      "name": "python"
    }
  },
  "cells": [
    {
      "cell_type": "markdown",
      "metadata": {
        "id": "view-in-github",
        "colab_type": "text"
      },
      "source": [
        "<a href=\"https://colab.research.google.com/github/Ratri903/lab-task1/blob/main/python4_py.ipynb\" target=\"_parent\"><img src=\"https://colab.research.google.com/assets/colab-badge.svg\" alt=\"Open In Colab\"/></a>"
      ]
    },
    {
      "cell_type": "code",
      "execution_count": 1,
      "metadata": {
        "colab": {
          "base_uri": "https://localhost:8080/"
        },
        "id": "C06RYvOk3Ig1",
        "outputId": "de85ca6b-53c8-473f-8ca8-a12ae4a2bfff"
      },
      "outputs": [
        {
          "output_type": "stream",
          "name": "stdout",
          "text": [
            "Enter names separated by spaces: gia\n",
            "Need at least 2 unique names!\n"
          ]
        }
      ],
      "source": [
        "names = input(\"Enter names separated by spaces: \").split()\n",
        "unique_names = sorted(set(names), key=len)\n",
        "\n",
        "if len(unique_names) >= 2:\n",
        "    print(\"Second shortest unique name:\", unique_names[1])\n",
        "else:\n",
        "    print(\"Need at least 2 unique names!\")\n"
      ]
    }
  ]
}