{
  "nbformat": 4,
  "nbformat_minor": 0,
  "metadata": {
    "colab": {
      "provenance": [],
      "authorship_tag": "ABX9TyMKvzD347EG7y0y9jiywyjS",
      "include_colab_link": true
    },
    "kernelspec": {
      "name": "python3",
      "display_name": "Python 3"
    },
    "language_info": {
      "name": "python"
    }
  },
  "cells": [
    {
      "cell_type": "markdown",
      "metadata": {
        "id": "view-in-github",
        "colab_type": "text"
      },
      "source": [
        "<a href=\"https://colab.research.google.com/github/Ratri903/lab-task1/blob/main/python8_py.ipynb\" target=\"_parent\"><img src=\"https://colab.research.google.com/assets/colab-badge.svg\" alt=\"Open In Colab\"/></a>"
      ]
    },
    {
      "cell_type": "code",
      "execution_count": null,
      "metadata": {
        "id": "RRfUcLZU4wUM"
      },
      "outputs": [],
      "source": [
        "def generate_fibonacci_iter(nterms):\n",
        "    if nterms <= 0:\n",
        "        print(\"Please enter a positive integer\")\n",
        "        return\n",
        "    a, b = 0, 1\n",
        "    fib_sequence = []\n",
        "    for _ in range(nterms):\n",
        "        fib_sequence.append(str(a))\n",
        "        a, b = b, a + b\n",
        "    print(\"Fibonacci sequence:\")\n",
        "    print(\", \".join(fib_sequence))\n",
        "\n",
        "# Example usage\n",
        "generate_fibonacci_iter(15)\n"
      ]
    }
  ]
}