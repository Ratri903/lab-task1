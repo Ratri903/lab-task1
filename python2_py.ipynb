{
  "nbformat": 4,
  "nbformat_minor": 0,
  "metadata": {
    "colab": {
      "provenance": [],
      "authorship_tag": "ABX9TyM8vJb9MelwFwuI4+BQEETM",
      "include_colab_link": true
    },
    "kernelspec": {
      "name": "python3",
      "display_name": "Python 3"
    },
    "language_info": {
      "name": "python"
    }
  },
  "cells": [
    {
      "cell_type": "markdown",
      "metadata": {
        "id": "view-in-github",
        "colab_type": "text"
      },
      "source": [
        "<a href=\"https://colab.research.google.com/github/Ratri903/lab-task1/blob/main/python2_py.ipynb\" target=\"_parent\"><img src=\"https://colab.research.google.com/assets/colab-badge.svg\" alt=\"Open In Colab\"/></a>"
      ]
    },
    {
      "cell_type": "code",
      "execution_count": 1,
      "metadata": {
        "colab": {
          "base_uri": "https://localhost:8080/"
        },
        "id": "bslVp_Ys1rE5",
        "outputId": "de87ae56-15b1-4f76-bb36-6196ec218dd9"
      },
      "outputs": [
        {
          "output_type": "stream",
          "name": "stdout",
          "text": [
            "Enter the weather condition (sunny, rainy, snowy): sunny\n",
            "The weather is sunny. Wear sunglasses and light clothes.\n"
          ]
        }
      ],
      "source": [
        "weather = input(\"Enter the weather condition (sunny, rainy, snowy): \").lower()\n",
        "\n",
        "if weather == 'sunny':\n",
        "    suggestion = 'Wear sunglasses and light clothes.'\n",
        "elif weather == 'rainy':\n",
        "    suggestion = 'Take an umbrella and wear a raincoat.'\n",
        "elif weather == 'snowy':\n",
        "    suggestion = 'Wear warm clothes and boots.'\n",
        "else:\n",
        "    suggestion = 'Unknown weather condition.'\n",
        "\n",
        "print(f\"The weather is {weather}. {suggestion}\")\n"
      ]
    }
  ]
}