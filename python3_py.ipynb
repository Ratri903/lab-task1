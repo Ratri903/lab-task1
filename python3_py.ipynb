{
  "nbformat": 4,
  "nbformat_minor": 0,
  "metadata": {
    "colab": {
      "provenance": [],
      "authorship_tag": "ABX9TyPRQC5nDN7MeNvf0bUmlly3",
      "include_colab_link": true
    },
    "kernelspec": {
      "name": "python3",
      "display_name": "Python 3"
    },
    "language_info": {
      "name": "python"
    }
  },
  "cells": [
    {
      "cell_type": "markdown",
      "metadata": {
        "id": "view-in-github",
        "colab_type": "text"
      },
      "source": [
        "<a href=\"https://colab.research.google.com/github/Ratri903/lab-task1/blob/main/python3_py.ipynb\" target=\"_parent\"><img src=\"https://colab.research.google.com/assets/colab-badge.svg\" alt=\"Open In Colab\"/></a>"
      ]
    },
    {
      "cell_type": "code",
      "execution_count": null,
      "metadata": {
        "id": "wmp7gVHr2dYL"
      },
      "outputs": [],
      "source": [
        "import random\n",
        "\n",
        "def word_game():\n",
        "    words = ['cat', 'dog', 'sun', 'pen', 'hat']\n",
        "    secret = random.choice(words)\n",
        "    attempts = 0\n",
        "\n",
        "    print(\"Guess the 3-letter word!\")\n",
        "\n",
        "    while True:\n",
        "        guess = input(\"Your guess: \").lower()\n",
        "        attempts += 1\n",
        "\n",
        "        if guess == secret:\n",
        "            print(f\"Correct! You guessed it in {attempts} tries.\")\n",
        "            break\n",
        "        else:\n",
        "            print(\"Wrong! Try again.\")\n",
        "\n",
        "while True:\n",
        "    word_game()\n",
        "    if input(\"Play again? (yes/no): \").lower() != 'yes':\n",
        "        break\n"
      ]
    }
  ]
}